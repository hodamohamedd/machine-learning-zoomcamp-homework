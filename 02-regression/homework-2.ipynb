{
 "cells": [
  {
   "cell_type": "code",
   "execution_count": 1,
   "id": "73f7532e-0ea1-4a55-bdda-db371ce4ca29",
   "metadata": {},
   "outputs": [],
   "source": [
    "import pandas as pd\n",
    "import seaborn as sns\n",
    "import numpy as np"
   ]
  },
  {
   "cell_type": "code",
   "execution_count": 2,
   "id": "7df4d324-ac35-4e25-a86d-51c2c8fc1638",
   "metadata": {},
   "outputs": [
    {
     "data": {
      "text/html": [
       "<div>\n",
       "<style scoped>\n",
       "    .dataframe tbody tr th:only-of-type {\n",
       "        vertical-align: middle;\n",
       "    }\n",
       "\n",
       "    .dataframe tbody tr th {\n",
       "        vertical-align: top;\n",
       "    }\n",
       "\n",
       "    .dataframe thead th {\n",
       "        text-align: right;\n",
       "    }\n",
       "</style>\n",
       "<table border=\"1\" class=\"dataframe\">\n",
       "  <thead>\n",
       "    <tr style=\"text-align: right;\">\n",
       "      <th></th>\n",
       "      <th>engine_displacement</th>\n",
       "      <th>num_cylinders</th>\n",
       "      <th>horsepower</th>\n",
       "      <th>vehicle_weight</th>\n",
       "      <th>acceleration</th>\n",
       "      <th>model_year</th>\n",
       "      <th>origin</th>\n",
       "      <th>fuel_type</th>\n",
       "      <th>drivetrain</th>\n",
       "      <th>num_doors</th>\n",
       "      <th>fuel_efficiency_mpg</th>\n",
       "    </tr>\n",
       "  </thead>\n",
       "  <tbody>\n",
       "    <tr>\n",
       "      <th>0</th>\n",
       "      <td>170</td>\n",
       "      <td>3.0</td>\n",
       "      <td>159.0</td>\n",
       "      <td>3413.433759</td>\n",
       "      <td>17.7</td>\n",
       "      <td>2003</td>\n",
       "      <td>Europe</td>\n",
       "      <td>Gasoline</td>\n",
       "      <td>All-wheel drive</td>\n",
       "      <td>0.0</td>\n",
       "      <td>13.231729</td>\n",
       "    </tr>\n",
       "    <tr>\n",
       "      <th>1</th>\n",
       "      <td>130</td>\n",
       "      <td>5.0</td>\n",
       "      <td>97.0</td>\n",
       "      <td>3149.664934</td>\n",
       "      <td>17.8</td>\n",
       "      <td>2007</td>\n",
       "      <td>USA</td>\n",
       "      <td>Gasoline</td>\n",
       "      <td>Front-wheel drive</td>\n",
       "      <td>0.0</td>\n",
       "      <td>13.688217</td>\n",
       "    </tr>\n",
       "    <tr>\n",
       "      <th>2</th>\n",
       "      <td>170</td>\n",
       "      <td>NaN</td>\n",
       "      <td>78.0</td>\n",
       "      <td>3079.038997</td>\n",
       "      <td>15.1</td>\n",
       "      <td>2018</td>\n",
       "      <td>Europe</td>\n",
       "      <td>Gasoline</td>\n",
       "      <td>Front-wheel drive</td>\n",
       "      <td>0.0</td>\n",
       "      <td>14.246341</td>\n",
       "    </tr>\n",
       "    <tr>\n",
       "      <th>3</th>\n",
       "      <td>220</td>\n",
       "      <td>4.0</td>\n",
       "      <td>NaN</td>\n",
       "      <td>2542.392402</td>\n",
       "      <td>20.2</td>\n",
       "      <td>2009</td>\n",
       "      <td>USA</td>\n",
       "      <td>Diesel</td>\n",
       "      <td>All-wheel drive</td>\n",
       "      <td>2.0</td>\n",
       "      <td>16.912736</td>\n",
       "    </tr>\n",
       "    <tr>\n",
       "      <th>4</th>\n",
       "      <td>210</td>\n",
       "      <td>1.0</td>\n",
       "      <td>140.0</td>\n",
       "      <td>3460.870990</td>\n",
       "      <td>14.4</td>\n",
       "      <td>2009</td>\n",
       "      <td>Europe</td>\n",
       "      <td>Gasoline</td>\n",
       "      <td>All-wheel drive</td>\n",
       "      <td>2.0</td>\n",
       "      <td>12.488369</td>\n",
       "    </tr>\n",
       "    <tr>\n",
       "      <th>...</th>\n",
       "      <td>...</td>\n",
       "      <td>...</td>\n",
       "      <td>...</td>\n",
       "      <td>...</td>\n",
       "      <td>...</td>\n",
       "      <td>...</td>\n",
       "      <td>...</td>\n",
       "      <td>...</td>\n",
       "      <td>...</td>\n",
       "      <td>...</td>\n",
       "      <td>...</td>\n",
       "    </tr>\n",
       "    <tr>\n",
       "      <th>9699</th>\n",
       "      <td>140</td>\n",
       "      <td>5.0</td>\n",
       "      <td>164.0</td>\n",
       "      <td>2981.107371</td>\n",
       "      <td>17.3</td>\n",
       "      <td>2013</td>\n",
       "      <td>Europe</td>\n",
       "      <td>Diesel</td>\n",
       "      <td>Front-wheel drive</td>\n",
       "      <td>NaN</td>\n",
       "      <td>15.101802</td>\n",
       "    </tr>\n",
       "    <tr>\n",
       "      <th>9700</th>\n",
       "      <td>180</td>\n",
       "      <td>NaN</td>\n",
       "      <td>154.0</td>\n",
       "      <td>2439.525729</td>\n",
       "      <td>15.0</td>\n",
       "      <td>2004</td>\n",
       "      <td>USA</td>\n",
       "      <td>Gasoline</td>\n",
       "      <td>All-wheel drive</td>\n",
       "      <td>0.0</td>\n",
       "      <td>17.962326</td>\n",
       "    </tr>\n",
       "    <tr>\n",
       "      <th>9701</th>\n",
       "      <td>220</td>\n",
       "      <td>2.0</td>\n",
       "      <td>138.0</td>\n",
       "      <td>2583.471318</td>\n",
       "      <td>15.1</td>\n",
       "      <td>2008</td>\n",
       "      <td>USA</td>\n",
       "      <td>Diesel</td>\n",
       "      <td>All-wheel drive</td>\n",
       "      <td>-1.0</td>\n",
       "      <td>17.186587</td>\n",
       "    </tr>\n",
       "    <tr>\n",
       "      <th>9702</th>\n",
       "      <td>230</td>\n",
       "      <td>4.0</td>\n",
       "      <td>177.0</td>\n",
       "      <td>2905.527390</td>\n",
       "      <td>19.4</td>\n",
       "      <td>2011</td>\n",
       "      <td>USA</td>\n",
       "      <td>Diesel</td>\n",
       "      <td>Front-wheel drive</td>\n",
       "      <td>1.0</td>\n",
       "      <td>15.331551</td>\n",
       "    </tr>\n",
       "    <tr>\n",
       "      <th>9703</th>\n",
       "      <td>270</td>\n",
       "      <td>3.0</td>\n",
       "      <td>140.0</td>\n",
       "      <td>2908.043477</td>\n",
       "      <td>14.7</td>\n",
       "      <td>2005</td>\n",
       "      <td>Asia</td>\n",
       "      <td>Diesel</td>\n",
       "      <td>All-wheel drive</td>\n",
       "      <td>-1.0</td>\n",
       "      <td>14.884467</td>\n",
       "    </tr>\n",
       "  </tbody>\n",
       "</table>\n",
       "<p>9704 rows × 11 columns</p>\n",
       "</div>"
      ],
      "text/plain": [
       "      engine_displacement  num_cylinders  horsepower  vehicle_weight  \\\n",
       "0                     170            3.0       159.0     3413.433759   \n",
       "1                     130            5.0        97.0     3149.664934   \n",
       "2                     170            NaN        78.0     3079.038997   \n",
       "3                     220            4.0         NaN     2542.392402   \n",
       "4                     210            1.0       140.0     3460.870990   \n",
       "...                   ...            ...         ...             ...   \n",
       "9699                  140            5.0       164.0     2981.107371   \n",
       "9700                  180            NaN       154.0     2439.525729   \n",
       "9701                  220            2.0       138.0     2583.471318   \n",
       "9702                  230            4.0       177.0     2905.527390   \n",
       "9703                  270            3.0       140.0     2908.043477   \n",
       "\n",
       "      acceleration  model_year  origin fuel_type         drivetrain  \\\n",
       "0             17.7        2003  Europe  Gasoline    All-wheel drive   \n",
       "1             17.8        2007     USA  Gasoline  Front-wheel drive   \n",
       "2             15.1        2018  Europe  Gasoline  Front-wheel drive   \n",
       "3             20.2        2009     USA    Diesel    All-wheel drive   \n",
       "4             14.4        2009  Europe  Gasoline    All-wheel drive   \n",
       "...            ...         ...     ...       ...                ...   \n",
       "9699          17.3        2013  Europe    Diesel  Front-wheel drive   \n",
       "9700          15.0        2004     USA  Gasoline    All-wheel drive   \n",
       "9701          15.1        2008     USA    Diesel    All-wheel drive   \n",
       "9702          19.4        2011     USA    Diesel  Front-wheel drive   \n",
       "9703          14.7        2005    Asia    Diesel    All-wheel drive   \n",
       "\n",
       "      num_doors  fuel_efficiency_mpg  \n",
       "0           0.0            13.231729  \n",
       "1           0.0            13.688217  \n",
       "2           0.0            14.246341  \n",
       "3           2.0            16.912736  \n",
       "4           2.0            12.488369  \n",
       "...         ...                  ...  \n",
       "9699        NaN            15.101802  \n",
       "9700        0.0            17.962326  \n",
       "9701       -1.0            17.186587  \n",
       "9702        1.0            15.331551  \n",
       "9703       -1.0            14.884467  \n",
       "\n",
       "[9704 rows x 11 columns]"
      ]
     },
     "execution_count": 2,
     "metadata": {},
     "output_type": "execute_result"
    }
   ],
   "source": [
    "df = pd.read_csv(\"https://raw.githubusercontent.com/alexeygrigorev/datasets/master/car_fuel_efficiency.csv\")\n",
    "df"
   ]
  },
  {
   "cell_type": "markdown",
   "id": "0fe9a392-9145-4d88-afc4-8218f4052a90",
   "metadata": {},
   "source": [
    "Preparing the dataset\n",
    "\n",
    "Use only the following columns:\n",
    "\n",
    "•\t'engine_displacement',\n",
    "\n",
    "•\t'horsepower',\n",
    "\n",
    "•\t'vehicle_weight',\n",
    "\n",
    "•\t'model_year',\n",
    "\n",
    "•\t'fuel_efficiency_mpg'"
   ]
  },
  {
   "cell_type": "code",
   "execution_count": 3,
   "id": "77929062-8e68-4dfe-8fab-9cf6aca9c7bb",
   "metadata": {},
   "outputs": [],
   "source": [
    "df = df[['engine_displacement','horsepower','vehicle_weight','model_year','fuel_efficiency_mpg']]"
   ]
  },
  {
   "cell_type": "markdown",
   "id": "3049b92c-f335-42f2-992b-f1f4ae239a36",
   "metadata": {},
   "source": [
    "EDA\n",
    "\n",
    "Look at the fuel_efficiency_mpg variable. Does it have a long tail?"
   ]
  },
  {
   "cell_type": "code",
   "execution_count": 4,
   "id": "aacceafc-ce21-4e5b-8280-323e73f09748",
   "metadata": {},
   "outputs": [
    {
     "data": {
      "image/png": "[encoded data removed]",
      "text/plain": [
       "<Figure size 640x480 with 1 Axes>"
      ]
     },
     "metadata": {},
     "output_type": "display_data"
    }
   ],
   "source": [
    "# Plot a histogram of the fuel_efficiency_mpg.\n",
    "sns.histplot(df['fuel_efficiency_mpg']);"
   ]
  },
  {
   "cell_type": "markdown",
   "id": "5c8192bf-b21a-4c39-99fa-4e213701578d",
   "metadata": {},
   "source": [
    "No we have a perfect normal distribution."
   ]
  },
  {
   "cell_type": "markdown",
   "id": "81749bfa-6bdc-4be4-9b9b-17b66ccd8296",
   "metadata": {},
   "source": [
    "Question 1\n",
    "\n",
    "There's one column with missing values. What is it?"
   ]
  },
  {
   "cell_type": "code",
   "execution_count": 5,
   "id": "84800d6e-70ea-4fe7-b2e5-57064cbe8262",
   "metadata": {},
   "outputs": [
    {
     "data": {
      "text/plain": [
       "engine_displacement      0\n",
       "horsepower             708\n",
       "vehicle_weight           0\n",
       "model_year               0\n",
       "fuel_efficiency_mpg      0\n",
       "dtype: int64"
      ]
     },
     "execution_count": 5,
     "metadata": {},
     "output_type": "execute_result"
    }
   ],
   "source": [
    "df.isnull().sum()"
   ]
  },
  {
   "cell_type": "markdown",
   "id": "c3c226c6-0539-43e1-98e3-cb307d9618b4",
   "metadata": {},
   "source": [
    "horsepower is the column with missing values"
   ]
  },
  {
   "cell_type": "markdown",
   "id": "187cf3e6-8a6c-4e53-a04a-63e8cc9d857a",
   "metadata": {},
   "source": [
    "Question 2\n",
    "\n",
    "What's the median (50% percentile) for variable 'horsepower'? "
   ]
  },
  {
   "cell_type": "code",
   "execution_count": 6,
   "id": "441d7ffc-58a8-4776-a61b-deb4e4f52834",
   "metadata": {},
   "outputs": [
    {
     "data": {
      "text/plain": [
       "np.float64(149.0)"
      ]
     },
     "execution_count": 6,
     "metadata": {},
     "output_type": "execute_result"
    }
   ],
   "source": [
    "df[\"horsepower\"].median()"
   ]
  },
  {
   "cell_type": "markdown",
   "id": "c9a3baff-d8dd-4f96-ac53-76b53ac6bdc2",
   "metadata": {},
   "source": [
    "The median is 149."
   ]
  },
  {
   "cell_type": "markdown",
   "id": "90a1700f-6002-4d31-974c-f767db12eec5",
   "metadata": {},
   "source": [
    "Prepare and split the dataset\n",
    "\n",
    "•\tShuffle the dataset (the filtered one you created above), use seed 42.                                                                                        \n",
    "•\tSplit your data in train/val/test sets, with 60%/20%/20% distribution.\n",
    "\n",
    "•\tUse the same code as in the lectures"
   ]
  },
  {
   "cell_type": "code",
   "execution_count": 7,
   "id": "311b7962-7012-4165-8dc6-6ae256cdb070",
   "metadata": {},
   "outputs": [
    {
     "data": {
      "text/plain": [
       "(9704, 9702, 5822, 1940, 1940)"
      ]
     },
     "execution_count": 7,
     "metadata": {},
     "output_type": "execute_result"
    }
   ],
   "source": [
    "train_n = int(len(df)*0.6)\n",
    "val_n = int(len(df)*0.2)\n",
    "test_n = int(len(df)*0.2)\n",
    "\n",
    "len(df) , train_n + val_n + test_n, train_n,val_n,test_n"
   ]
  },
  {
   "cell_type": "code",
   "execution_count": 8,
   "id": "c6881d73-6d94-4157-9831-f6f4c4961b94",
   "metadata": {},
   "outputs": [
    {
     "data": {
      "text/plain": [
       "(5822, 1940, 1942)"
      ]
     },
     "execution_count": 8,
     "metadata": {},
     "output_type": "execute_result"
    }
   ],
   "source": [
    "x_train = df.iloc[:train_n]\n",
    "x_val = df.iloc[train_n: train_n +val_n]\n",
    "x_test = df.iloc[train_n + val_n:]\n",
    "len(x_train),len(x_val),len(x_test)"
   ]
  },
  {
   "cell_type": "code",
   "execution_count": 9,
   "id": "fe71e7c2-135b-4024-a1f3-8e1195f67e26",
   "metadata": {},
   "outputs": [
    {
     "data": {
      "text/plain": [
       "array([ 483, 7506, 8795, ..., 5390,  860, 7270], shape=(9704,))"
      ]
     },
     "execution_count": 9,
     "metadata": {},
     "output_type": "execute_result"
    }
   ],
   "source": [
    "np.random.seed(42)\n",
    "idx = np.arange(len(df))\n",
    "np.random.shuffle(idx)\n",
    "idx"
   ]
  },
  {
   "cell_type": "code",
   "execution_count": 10,
   "id": "5e3454d4-5794-409a-ba4b-a2e1f847c610",
   "metadata": {},
   "outputs": [],
   "source": [
    "x_train = df.iloc[idx[:train_n]]\n",
    "x_val = df.iloc[idx[train_n: train_n +val_n]]\n",
    "x_test = df.iloc[idx[train_n + val_n:]]"
   ]
  },
  {
   "cell_type": "code",
   "execution_count": 11,
   "id": "2d436969-5e3f-4bfe-9083-9e143c54272f",
   "metadata": {},
   "outputs": [],
   "source": [
    "x_train.reset_index(drop = True,inplace = True)\n",
    "x_val.reset_index(drop = True,inplace = True) \n",
    "x_test.reset_index(drop = True,inplace = True)"
   ]
  },
  {
   "cell_type": "code",
   "execution_count": 12,
   "id": "6c77be7c-579d-40af-a64b-88bd4b244eb2",
   "metadata": {},
   "outputs": [],
   "source": [
    "y_train = x_train.fuel_efficiency_mpg.values\n",
    "y_val = x_val.fuel_efficiency_mpg.values\n",
    "y_test = x_test.fuel_efficiency_mpg.values"
   ]
  },
  {
   "cell_type": "code",
   "execution_count": 13,
   "id": "2eaff969-64b4-48db-81a3-4bf3fdf7be01",
   "metadata": {},
   "outputs": [],
   "source": [
    "del x_train[\"fuel_efficiency_mpg\"]\n",
    "del x_val[\"fuel_efficiency_mpg\"]\n",
    "del x_test[\"fuel_efficiency_mpg\"] "
   ]
  },
  {
   "cell_type": "markdown",
   "id": "364b389a-cbca-41d9-b6d3-b59c0afc2564",
   "metadata": {},
   "source": [
    "Question 3                                                                                                                                                \n",
    "•\tWe need to deal with missing values for the column from Q1.                                                                                          \n",
    "•\tWe have two options: fill it with 0 or with the mean of this variable.                                                                               \n",
    "•\tTry both options. For each, train a linear regression model without regularization using the code from the lessons.                                 \n",
    "•\tFor computing the mean, use the training only!                                                                                                      \n",
    "•\tUse the validation dataset to evaluate the models and compare the RMSE of each option.                                                              \n",
    "•\tRound the RMSE scores to 2 decimal digits using round(score, 2)\n",
    "\n",
    "Which option gives better RMSE?                                                                                                                         \n",
    "Options:\n",
    "\n",
    "•\tWith 0                                                                                                                                              \n",
    "•\tWith mean                                                                                                                                           \n",
    "•\tBoth are equally good"
   ]
  },
  {
   "cell_type": "markdown",
   "id": "a844e59a-f6d5-4f24-a238-8c7ee8a51e89",
   "metadata": {},
   "source": [
    "First option: Filling missing values with 0"
   ]
  },
  {
   "cell_type": "code",
   "execution_count": 14,
   "id": "a90fbfd7-c00d-4258-852c-47ad30049dc9",
   "metadata": {},
   "outputs": [],
   "source": [
    "def prepare_data_zero(df):\n",
    "    df = df.fillna(0)\n",
    "    X = df.values\n",
    "    return X"
   ]
  },
  {
   "cell_type": "code",
   "execution_count": 15,
   "id": "623988fb-5a59-4e6c-8f9f-d99e313c1dad",
   "metadata": {},
   "outputs": [],
   "source": [
    "def train_linear_regression(X,y):\n",
    "    X = np.column_stack((np.ones(X.shape[0], dtype=int), X))\n",
    "    XTX = X.T.dot(X)\n",
    "    XTX_inv = np.linalg.inv(XTX)\n",
    "    w_full = XTX_inv.dot(X.T).dot(y)\n",
    "    return w_full[0],w_full[1:]"
   ]
  },
  {
   "cell_type": "code",
   "execution_count": 16,
   "id": "162f34cd-433e-46c7-b0d7-1b78f2dbe3a0",
   "metadata": {},
   "outputs": [
    {
     "data": {
      "text/plain": [
       "array([[ 220.        ,  144.        , 2535.88759124, 2009.        ],\n",
       "       [ 160.        ,  141.        , 2741.17048439, 2019.        ],\n",
       "       [ 230.        ,  155.        , 2471.88023726, 2017.        ],\n",
       "       ...,\n",
       "       [ 260.        ,  139.        , 2606.9729844 , 2009.        ],\n",
       "       [ 280.        ,  132.        , 4004.21432295, 2014.        ],\n",
       "       [ 210.        ,  152.        , 2500.17568746, 2020.        ]],\n",
       "      shape=(5822, 4))"
      ]
     },
     "execution_count": 16,
     "metadata": {},
     "output_type": "execute_result"
    }
   ],
   "source": [
    "X_train = prepare_data_zero(x_train)\n",
    "X_train"
   ]
  },
  {
   "cell_type": "code",
   "execution_count": 17,
   "id": "ef701427-2356-45f1-94c5-f3f1c96c367f",
   "metadata": {},
   "outputs": [
    {
     "data": {
      "text/plain": [
       "(np.float64(28.810749330744027),\n",
       " array([ 9.88022381e-05,  3.54195814e-03, -5.01316573e-03,  3.51135284e-04]))"
      ]
     },
     "execution_count": 17,
     "metadata": {},
     "output_type": "execute_result"
    }
   ],
   "source": [
    "w0 , w = train_linear_regression(X_train,y_train)\n",
    "w0 , w "
   ]
  },
  {
   "cell_type": "code",
   "execution_count": 18,
   "id": "eee7a690-9da6-4e05-acf2-335e1cebb733",
   "metadata": {},
   "outputs": [
    {
     "data": {
      "text/plain": [
       "array([[ 250.        ,  154.        , 2254.31324473, 2002.        ],\n",
       "       [ 210.        ,  152.        , 2435.20360628, 2004.        ],\n",
       "       [ 180.        ,  112.        , 2772.13441008, 2020.        ],\n",
       "       ...,\n",
       "       [ 290.        ,  205.        , 3403.40149596, 2019.        ],\n",
       "       [ 200.        ,  159.        , 2752.51603879, 2009.        ],\n",
       "       [ 230.        ,  202.        , 3303.00068812, 2008.        ]],\n",
       "      shape=(1940, 4))"
      ]
     },
     "execution_count": 18,
     "metadata": {},
     "output_type": "execute_result"
    }
   ],
   "source": [
    "X_val = prepare_data_zero(x_val)\n",
    "X_val"
   ]
  },
  {
   "cell_type": "code",
   "execution_count": 19,
   "id": "315cceb1-8e85-49d2-803d-8643b1f31531",
   "metadata": {},
   "outputs": [
    {
     "data": {
      "text/plain": [
       "array([18.78263838, 17.86547128, 16.0373571 , ..., 13.21262979,\n",
       "       16.30029283, 13.69553919], shape=(1940,))"
      ]
     },
     "execution_count": 19,
     "metadata": {},
     "output_type": "execute_result"
    }
   ],
   "source": [
    "y_pred = w0 + X_val.dot(w)\n",
    "y_pred"
   ]
  },
  {
   "cell_type": "code",
   "execution_count": 20,
   "id": "af93c686-49ac-4feb-a327-ea25906ba4ab",
   "metadata": {},
   "outputs": [],
   "source": [
    "def rmse(y,y_pred):\n",
    "    squared_error = (y - y_pred)**2\n",
    "    mean_squared_error = squared_error.mean()\n",
    "    return np.sqrt(mean_squared_error)"
   ]
  },
  {
   "cell_type": "code",
   "execution_count": 21,
   "id": "782a9337-1a11-4bc1-8794-1dc51a142ffd",
   "metadata": {},
   "outputs": [
    {
     "data": {
      "text/plain": [
       "np.float64(0.52)"
      ]
     },
     "execution_count": 21,
     "metadata": {},
     "output_type": "execute_result"
    }
   ],
   "source": [
    "score = rmse(y_val,y_pred)\n",
    "round(score,2)"
   ]
  },
  {
   "cell_type": "markdown",
   "id": "059c9943-1d3f-4ca9-8605-8a1302dd8615",
   "metadata": {},
   "source": [
    "Second option: Filling the missing values with training dataset horsepower's mean"
   ]
  },
  {
   "cell_type": "code",
   "execution_count": 22,
   "id": "1ba19e32-c0c7-4165-af55-d459ca5663e3",
   "metadata": {},
   "outputs": [
    {
     "data": {
      "text/plain": [
       "np.float64(149.54348229185982)"
      ]
     },
     "execution_count": 22,
     "metadata": {},
     "output_type": "execute_result"
    }
   ],
   "source": [
    "horsepower_mean = x_train[\"horsepower\"].mean()\n",
    "horsepower_mean"
   ]
  },
  {
   "cell_type": "code",
   "execution_count": 23,
   "id": "79271832-820d-4375-b5b8-e437e33e8fed",
   "metadata": {},
   "outputs": [
    {
     "data": {
      "text/plain": [
       "engine_displacement      0\n",
       "horsepower             429\n",
       "vehicle_weight           0\n",
       "model_year               0\n",
       "dtype: int64"
      ]
     },
     "execution_count": 23,
     "metadata": {},
     "output_type": "execute_result"
    }
   ],
   "source": [
    "x_train.isnull().sum()"
   ]
  },
  {
   "cell_type": "code",
   "execution_count": 24,
   "id": "37b358ab-f380-4ba0-9f47-699dc6131de2",
   "metadata": {},
   "outputs": [],
   "source": [
    "def prepare_data_mean(df):\n",
    "    df = df.fillna(horsepower_mean)\n",
    "    X = df.values\n",
    "    return X"
   ]
  },
  {
   "cell_type": "code",
   "execution_count": 25,
   "id": "72691ff0-b853-497d-ad09-4ff793bfd5ab",
   "metadata": {},
   "outputs": [],
   "source": [
    "X_train_mean = prepare_data_mean(x_train)"
   ]
  },
  {
   "cell_type": "code",
   "execution_count": 26,
   "id": "ad8bdefa-d8d2-4094-ade3-d798118050cc",
   "metadata": {},
   "outputs": [
    {
     "data": {
      "text/plain": [
       "(np.float64(28.907110617355798),\n",
       " array([ 0.00012034,  0.01030286, -0.00500997, -0.00022574]))"
      ]
     },
     "execution_count": 26,
     "metadata": {},
     "output_type": "execute_result"
    }
   ],
   "source": [
    "w0_mean , w_mean  = train_linear_regression(X_train_mean,y_train)\n",
    "w0_mean , w_mean"
   ]
  },
  {
   "cell_type": "code",
   "execution_count": 27,
   "id": "d7548b8d-33eb-463d-ba3a-01831cf25be4",
   "metadata": {},
   "outputs": [
    {
     "data": {
      "text/plain": [
       "array([[ 250.        ,  154.        , 2254.31324473, 2002.        ],\n",
       "       [ 210.        ,  152.        , 2435.20360628, 2004.        ],\n",
       "       [ 180.        ,  112.        , 2772.13441008, 2020.        ],\n",
       "       ...,\n",
       "       [ 290.        ,  205.        , 3403.40149596, 2019.        ],\n",
       "       [ 200.        ,  159.        , 2752.51603879, 2009.        ],\n",
       "       [ 230.        ,  202.        , 3303.00068812, 2008.        ]],\n",
       "      shape=(1940, 4))"
      ]
     },
     "execution_count": 27,
     "metadata": {},
     "output_type": "execute_result"
    }
   ],
   "source": [
    "X_val_mean = prepare_data_mean(x_val)\n",
    "X_val_mean"
   ]
  },
  {
   "cell_type": "code",
   "execution_count": 28,
   "id": "fae3edd1-5149-400e-98a0-db0671674f7d",
   "metadata": {},
   "outputs": [
    {
     "data": {
      "text/plain": [
       "array([18.77787065, 17.84574511, 15.73839641, ..., 13.54739898,\n",
       "       16.32580835, 14.01475775], shape=(1940,))"
      ]
     },
     "execution_count": 28,
     "metadata": {},
     "output_type": "execute_result"
    }
   ],
   "source": [
    "y_pred_mean = w0_mean + X_val_mean.dot(w_mean)\n",
    "y_pred_mean"
   ]
  },
  {
   "cell_type": "code",
   "execution_count": 29,
   "id": "5bf48cc2-b0fa-41d5-aae8-2eca8f2aae92",
   "metadata": {},
   "outputs": [
    {
     "data": {
      "text/plain": [
       "np.float64(0.46)"
      ]
     },
     "execution_count": 29,
     "metadata": {},
     "output_type": "execute_result"
    }
   ],
   "source": [
    "score_mean = rmse(y_val,y_pred_mean)\n",
    "round(score_mean,2)"
   ]
  },
  {
   "cell_type": "markdown",
   "id": "107c81b9-833b-40f8-a109-d39edf7f43cb",
   "metadata": {},
   "source": [
    "The RMSE score with horsepower's mean on training dataset seems to be better : 0.46<0.52"
   ]
  },
  {
   "cell_type": "markdown",
   "id": "159fb5de-7b11-4011-bf68-d0c2988f2a8e",
   "metadata": {},
   "source": [
    "Question 4                                                                                                                                                                                                                                                                                                                                                                                                         \n",
    "•\tNow let's train a regularized linear regression.  \n",
    "\n",
    "•\tFor this question, fill the NAs with 0.\n",
    "    \n",
    "•\tTry different values of r from this list: [0, 0.01, 0.1, 1, 5, 10, 100].\n",
    "    \n",
    "•\tUse RMSE to evaluate the model on the validation dataset.\n",
    "    \n",
    "•\tRound the RMSE scores to 2 decimal digits.\n",
    "    \n",
    "•\tWhich r gives the best RMSE?\n",
    "\n",
    "If there are multiple options, select the smallest r.\n",
    "\n",
    "Options: [0, 0.01, 1, 10, 100]"
   ]
  },
  {
   "cell_type": "code",
   "execution_count": 34,
   "id": "cd2b810f-39ff-4ffd-af14-ec1054babd1d",
   "metadata": {},
   "outputs": [],
   "source": [
    "def train_linear_regression_regularized(X,y,r= 0.01):\n",
    "    X = np.column_stack((np.ones(X.shape[0], dtype=int), X))\n",
    "    XTX = X.T.dot(X)\n",
    "    XTX = XTX + r * np.eye(XTX.shape[0])\n",
    "    XTX_inv = np.linalg.inv(XTX)\n",
    "    w_full = XTX_inv.dot(X.T).dot(y)\n",
    "    return w_full[0],w_full[1:]"
   ]
  },
  {
   "cell_type": "code",
   "execution_count": 35,
   "id": "0e15014e-c767-4b0e-aa31-fc54cc1a37a3",
   "metadata": {},
   "outputs": [
    {
     "name": "stdout",
     "output_type": "stream",
     "text": [
      "0 28.810749330744027 0.52\n",
      "0.01 28.810749330744027 0.52\n",
      "0.1 28.810749330744027 0.52\n",
      "1 28.810749330744027 0.52\n",
      "5 28.810749330744027 0.52\n",
      "10 28.810749330744027 0.52\n",
      "100 28.810749330744027 0.52\n"
     ]
    }
   ],
   "source": [
    "for r in [0,0.01,0.1,1,5,10,100]:\n",
    "    X_train_reg = prepare_data_zero(x_train)\n",
    "    w0_reg,w_reg = train_linear_regression_regularized(X_train_reg,y_train,r= r)\n",
    "    X_val_reg = prepare_data_zero(x_val)\n",
    "    y_pred_reg = w0_reg + X_val_reg.dot(w_reg)\n",
    "    print(r,w0,round(rmse(y_val,y_pred_reg),2))"
   ]
  },
  {
   "cell_type": "markdown",
   "id": "2c0f25f7-119c-4d47-8351-d1e4d4d4a937",
   "metadata": {},
   "source": [
    "With 2 digits arounded , the smallest r is 0."
   ]
  },
  {
   "cell_type": "markdown",
   "id": "9c14af1d-0e1d-49c9-82d7-566898883a6a",
   "metadata": {},
   "source": [
    "Question 5\n",
    "•\tWe used seed 42 for splitting the data. Let's find out how selecting the seed influences our score.                                                 \n",
    "•\tTry different seed values: [0, 1, 2, 3, 4, 5, 6, 7, 8, 9].                                                                                          \n",
    "•\tFor each seed, do the train/validation/test split with 60%/20%/20% distribution.                                                                     \n",
    "•\tFill the missing values with 0 and train a model without regularization.                                                                            \n",
    "•\tFor each seed, evaluate the model on the validation dataset and collect the RMSE scores.                                                               \n",
    "•\tWhat's the standard deviation of all the scores? To compute the standard deviation, use np.std.                                                     \n",
    "•\tRound the result to 3 decimal digits (round(std, 3))"
   ]
  },
  {
   "cell_type": "code",
   "execution_count": 37,
   "id": "c74d3fc0-4012-4b37-b1eb-d98725bb8930",
   "metadata": {},
   "outputs": [
    {
     "name": "stdout",
     "output_type": "stream",
     "text": [
      "RMSE par seed :\n",
      "seed_0: 0.521\n",
      "seed_1: 0.522\n",
      "seed_2: 0.523\n",
      "seed_3: 0.516\n",
      "seed_4: 0.511\n",
      "seed_5: 0.529\n",
      "seed_6: 0.532\n",
      "seed_7: 0.51\n",
      "seed_8: 0.515\n",
      "seed_9: 0.513\n"
     ]
    }
   ],
   "source": [
    "datasets = {}\n",
    "rmse_results = {}\n",
    "\n",
    "\n",
    "for n in range(10):  # seeds 0 to 9\n",
    " \n",
    "    \n",
    "    # Split 60/20/20\n",
    "    train_n = int(len(df)*0.6)\n",
    "    val_n = int(len(df)*0.2)\n",
    "    test_n = int(len(df)*0.2)\n",
    " \n",
    "    x_train = df.iloc[:train_n]\n",
    "    x_val = df.iloc[train_n: train_n +val_n]\n",
    "    x_test = df.iloc[train_n + val_n:]\n",
    "\n",
    "    # Shuffling indexes\n",
    "    np.random.seed(n)\n",
    "    idx = np.arange(len(df))\n",
    "    np.random.shuffle(idx)\n",
    "\n",
    "    # Extraction\n",
    "    x_train = df.iloc[idx[:train_n]]\n",
    "    x_val = df.iloc[idx[train_n: train_n +val_n]]\n",
    "    x_test = df.iloc[idx[train_n + val_n:]]\n",
    "\n",
    "    \n",
    "\n",
    "    # Reset indexes\n",
    "    x_train.reset_index(drop = True,inplace = True)\n",
    "    x_val.reset_index(drop = True,inplace = True) \n",
    "    x_test.reset_index(drop = True,inplace = True)\n",
    "\n",
    "    # Target   \n",
    "    y_train = x_train.fuel_efficiency_mpg.values\n",
    "    y_val = x_val.fuel_efficiency_mpg.values\n",
    "    y_test = x_test.fuel_efficiency_mpg.values\n",
    "\n",
    "    # Deleting the target from datasets\n",
    "    del x_train[\"fuel_efficiency_mpg\"]\n",
    "    del x_val[\"fuel_efficiency_mpg\"]\n",
    "    del x_test[\"fuel_efficiency_mpg\"] \n",
    "\n",
    "    # Prepare the data in filling zeros\n",
    "    X_train = prepare_data_zero(x_train)\n",
    "    X_val = prepare_data_zero(x_val)\n",
    "    X_test = prepare_data_zero(x_test)\n",
    "\n",
    "\n",
    "    # Savings in a versioned dictionary\n",
    "    datasets[f\"seed_{n}\"] = {\n",
    "        \"x_train\": x_train,\n",
    "        \"y_train\": y_train,\n",
    "        \"x_val\": x_val,\n",
    "        \"y_val\": y_val,\n",
    "        \"x_test\": x_test,\n",
    "        \"y_test\": y_test\n",
    "    }\n",
    "\n",
    "    # Training linear regression without regularization\n",
    "    w0 , w = train_linear_regression(X_train,y_train)\n",
    "\n",
    "    # Prediction on validation set with trained model\n",
    "    y_pred = w0 + X_val.dot(w)\n",
    "\n",
    "    # Evaluating with RMSE\n",
    "    score = round(rmse(y_val,y_pred),3)\n",
    "\n",
    "    # Storage of RMSE\n",
    "    rmse_results[f\"seed_{n}\"] = score\n",
    "\n",
    "print(\"RMSE par seed :\")\n",
    "for seed, score in rmse_results.items():\n",
    "    print(f\"{seed}: {score}\")"
   ]
  },
  {
   "cell_type": "code",
   "execution_count": 38,
   "id": "f7674b23-bc2b-4362-b8ad-2ef3724e3a8e",
   "metadata": {},
   "outputs": [
    {
     "data": {
      "text/plain": [
       "{'seed_0': np.float64(0.521),\n",
       " 'seed_1': np.float64(0.522),\n",
       " 'seed_2': np.float64(0.523),\n",
       " 'seed_3': np.float64(0.516),\n",
       " 'seed_4': np.float64(0.511),\n",
       " 'seed_5': np.float64(0.529),\n",
       " 'seed_6': np.float64(0.532),\n",
       " 'seed_7': np.float64(0.51),\n",
       " 'seed_8': np.float64(0.515),\n",
       " 'seed_9': np.float64(0.513)}"
      ]
     },
     "execution_count": 38,
     "metadata": {},
     "output_type": "execute_result"
    }
   ],
   "source": [
    "rmse_results"
   ]
  },
  {
   "cell_type": "code",
   "execution_count": 39,
   "id": "92473ef5-c501-417c-88b4-e50d576e190d",
   "metadata": {},
   "outputs": [
    {
     "data": {
      "text/plain": [
       "np.float64(0.0071)"
      ]
     },
     "execution_count": 39,
     "metadata": {},
     "output_type": "execute_result"
    }
   ],
   "source": [
    "rmse_values = np.array(list(rmse_results.values()))\n",
    "round(np.std(rmse_values), 4)"
   ]
  },
  {
   "cell_type": "markdown",
   "id": "d3dd1512-9182-46a4-8719-3d061bddada8",
   "metadata": {},
   "source": [
    "•\tStandard deviation is pretty low then we can think that our model is stable.                                                                        \n",
    "•\tIt was predictable after viewing the distribution for our target."
   ]
  },
  {
   "cell_type": "markdown",
   "id": "6702d923-c834-4f11-948f-064b3176a285",
   "metadata": {},
   "source": [
    "Question 6\n",
    "•\tSplit the dataset like previously, use seed 9. \n",
    "    \n",
    "•\tCombine train and validation datasets.\n",
    "    \n",
    "•\tFill the missing values with 0 and train a model with r=0.001.\n",
    "    \n",
    "•\tWhat's the RMSE on the test dataset?"
   ]
  },
  {
   "cell_type": "code",
   "execution_count": 40,
   "id": "a9f55e12-6258-4ac9-881f-6276f83a7e6b",
   "metadata": {},
   "outputs": [
    {
     "data": {
      "text/html": [
       "<div>\n",
       "<style scoped>\n",
       "    .dataframe tbody tr th:only-of-type {\n",
       "        vertical-align: middle;\n",
       "    }\n",
       "\n",
       "    .dataframe tbody tr th {\n",
       "        vertical-align: top;\n",
       "    }\n",
       "\n",
       "    .dataframe thead th {\n",
       "        text-align: right;\n",
       "    }\n",
       "</style>\n",
       "<table border=\"1\" class=\"dataframe\">\n",
       "  <thead>\n",
       "    <tr style=\"text-align: right;\">\n",
       "      <th></th>\n",
       "      <th>engine_displacement</th>\n",
       "      <th>horsepower</th>\n",
       "      <th>vehicle_weight</th>\n",
       "      <th>model_year</th>\n",
       "    </tr>\n",
       "  </thead>\n",
       "  <tbody>\n",
       "    <tr>\n",
       "      <th>0</th>\n",
       "      <td>240</td>\n",
       "      <td>136.0</td>\n",
       "      <td>4050.512290</td>\n",
       "      <td>2006</td>\n",
       "    </tr>\n",
       "    <tr>\n",
       "      <th>1</th>\n",
       "      <td>190</td>\n",
       "      <td>141.0</td>\n",
       "      <td>3195.866942</td>\n",
       "      <td>2017</td>\n",
       "    </tr>\n",
       "    <tr>\n",
       "      <th>2</th>\n",
       "      <td>200</td>\n",
       "      <td>184.0</td>\n",
       "      <td>3006.164370</td>\n",
       "      <td>2017</td>\n",
       "    </tr>\n",
       "    <tr>\n",
       "      <th>3</th>\n",
       "      <td>200</td>\n",
       "      <td>NaN</td>\n",
       "      <td>2947.143980</td>\n",
       "      <td>2022</td>\n",
       "    </tr>\n",
       "    <tr>\n",
       "      <th>4</th>\n",
       "      <td>250</td>\n",
       "      <td>132.0</td>\n",
       "      <td>3114.371978</td>\n",
       "      <td>2001</td>\n",
       "    </tr>\n",
       "    <tr>\n",
       "      <th>...</th>\n",
       "      <td>...</td>\n",
       "      <td>...</td>\n",
       "      <td>...</td>\n",
       "      <td>...</td>\n",
       "    </tr>\n",
       "    <tr>\n",
       "      <th>7757</th>\n",
       "      <td>230</td>\n",
       "      <td>179.0</td>\n",
       "      <td>2717.552294</td>\n",
       "      <td>2003</td>\n",
       "    </tr>\n",
       "    <tr>\n",
       "      <th>7758</th>\n",
       "      <td>170</td>\n",
       "      <td>115.0</td>\n",
       "      <td>2760.369106</td>\n",
       "      <td>2022</td>\n",
       "    </tr>\n",
       "    <tr>\n",
       "      <th>7759</th>\n",
       "      <td>200</td>\n",
       "      <td>167.0</td>\n",
       "      <td>3470.715658</td>\n",
       "      <td>2003</td>\n",
       "    </tr>\n",
       "    <tr>\n",
       "      <th>7760</th>\n",
       "      <td>180</td>\n",
       "      <td>144.0</td>\n",
       "      <td>3605.310144</td>\n",
       "      <td>2016</td>\n",
       "    </tr>\n",
       "    <tr>\n",
       "      <th>7761</th>\n",
       "      <td>180</td>\n",
       "      <td>154.0</td>\n",
       "      <td>3346.965671</td>\n",
       "      <td>2018</td>\n",
       "    </tr>\n",
       "  </tbody>\n",
       "</table>\n",
       "<p>7762 rows × 4 columns</p>\n",
       "</div>"
      ],
      "text/plain": [
       "      engine_displacement  horsepower  vehicle_weight  model_year\n",
       "0                     240       136.0     4050.512290        2006\n",
       "1                     190       141.0     3195.866942        2017\n",
       "2                     200       184.0     3006.164370        2017\n",
       "3                     200         NaN     2947.143980        2022\n",
       "4                     250       132.0     3114.371978        2001\n",
       "...                   ...         ...             ...         ...\n",
       "7757                  230       179.0     2717.552294        2003\n",
       "7758                  170       115.0     2760.369106        2022\n",
       "7759                  200       167.0     3470.715658        2003\n",
       "7760                  180       144.0     3605.310144        2016\n",
       "7761                  180       154.0     3346.965671        2018\n",
       "\n",
       "[7762 rows x 4 columns]"
      ]
     },
     "execution_count": 40,
     "metadata": {},
     "output_type": "execute_result"
    }
   ],
   "source": [
    "x_train_9 = datasets[\"seed_9\"]['x_train']\n",
    "x_val_9 = datasets[\"seed_9\"]['x_val']\n",
    "x_test_9 = datasets[\"seed_9\"]['x_test']\n",
    "\n",
    "# COncatenate train & validation datasets\n",
    "full_train = pd.concat([x_train_9, x_val_9])\n",
    "full_train.reset_index(drop= True,inplace = True)\n",
    "full_train"
   ]
  },
  {
   "cell_type": "code",
   "execution_count": 41,
   "id": "7ec43324-9d42-43db-9114-720d8f46a5bc",
   "metadata": {},
   "outputs": [],
   "source": [
    "# Prepare data in filling missing values in horsepower feature\n",
    "X_full_train = prepare_data_zero(full_train)\n",
    "X_test = prepare_data_zero(x_test_9)"
   ]
  },
  {
   "cell_type": "code",
   "execution_count": 42,
   "id": "11a0445f-f5cc-4a99-b5bf-8586e8c2902f",
   "metadata": {},
   "outputs": [
    {
     "name": "stdout",
     "output_type": "stream",
     "text": [
      "(7762, 4)\n",
      "(1942, 4)\n"
     ]
    }
   ],
   "source": [
    "print(X_full_train.shape)\n",
    "print(X_test.shape)"
   ]
  },
  {
   "cell_type": "code",
   "execution_count": 43,
   "id": "9a6f1006-b809-4d03-871c-fc35d8b6e31c",
   "metadata": {},
   "outputs": [],
   "source": [
    "y_train_9 = datasets[\"seed_9\"]['y_train']\n",
    "y_val_9 = datasets[\"seed_9\"]['y_val']\n",
    "y_test_9 = datasets[\"seed_9\"]['y_test']\n",
    "\n",
    "y_full_train = np.concatenate([y_train_9,y_val_9])"
   ]
  },
  {
   "cell_type": "code",
   "execution_count": 44,
   "id": "f6d29a0c-8e38-4332-a424-769730c6cdd1",
   "metadata": {},
   "outputs": [
    {
     "name": "stdout",
     "output_type": "stream",
     "text": [
      "(7762,)\n",
      "(1942,)\n"
     ]
    }
   ],
   "source": [
    "print(y_full_train.shape)\n",
    "print(y_test_9.shape)"
   ]
  },
  {
   "cell_type": "code",
   "execution_count": 45,
   "id": "c8239e01-1b88-4312-ad1c-55503285b966",
   "metadata": {},
   "outputs": [
    {
     "data": {
      "text/plain": [
       "np.float64(0.516)"
      ]
     },
     "execution_count": 45,
     "metadata": {},
     "output_type": "execute_result"
    }
   ],
   "source": [
    "w0,w = train_linear_regression_regularized(X_full_train,y_full_train,r= 0.001)\n",
    "y_pred = w0 + X_test.dot(w)\n",
    "\n",
    "# Evaluating with RMSE\n",
    "score = round(rmse(y_test_9,y_pred),3)\n",
    "score"
   ]
  },
  {
   "cell_type": "code",
   "execution_count": null,
   "id": "cc8ab1fe-17b4-4ded-a68c-b01a0e53e38c",
   "metadata": {},
   "outputs": [],
   "source": [
    "\n",
    "The model achieved an RMSE of 0.516 using a linear regression trained on the combined training and validation datasets, with a regularization parameter (λ) of 0.001."
   ]
  }
 ],
 "metadata": {
  "kernelspec": {
   "display_name": "Python 3 (ipykernel)",
   "language": "python",
   "name": "python3"
  },
  "language_info": {
   "codemirror_mode": {
    "name": "ipython",
    "version": 3
   },
   "file_extension": ".py",
   "mimetype": "text/x-python",
   "name": "python",
   "nbconvert_exporter": "python",
   "pygments_lexer": "ipython3",
   "version": "3.12.1"
  }
 },
 "nbformat": 4,
 "nbformat_minor": 5
}
